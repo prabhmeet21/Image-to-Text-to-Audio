{
  "nbformat": 4,
  "nbformat_minor": 0,
  "metadata": {
    "colab": {
      "provenance": [],
      "include_colab_link": true
    },
    "kernelspec": {
      "name": "python3",
      "display_name": "Python 3"
    },
    "language_info": {
      "name": "python"
    }
  },
  "cells": [
    {
      "cell_type": "markdown",
      "metadata": {
        "id": "view-in-github",
        "colab_type": "text"
      },
      "source": [
        "<a href=\"https://colab.research.google.com/github/prabhmeet21/Image-to-Text-to-Audio/blob/main/Image_to_Text_to_Audio.ipynb\" target=\"_parent\"><img src=\"https://colab.research.google.com/assets/colab-badge.svg\" alt=\"Open In Colab\"/></a>"
      ]
    },
    {
      "cell_type": "code",
      "execution_count": null,
      "metadata": {
        "id": "Z2hMeMMGeQ1a"
      },
      "outputs": [],
      "source": [
        "!sudo apt install tesseract-ocr\n",
        "!pip install pytesseract\n",
        "!pip install gTTS\n",
        "!pip install Pillow==9.0.0"
      ]
    },
    {
      "cell_type": "code",
      "source": [
        "import pytesseract\n",
        "from PIL import Image\n",
        "import gtts"
      ],
      "metadata": {
        "id": "xoV_h5MGe4a6"
      },
      "execution_count": null,
      "outputs": []
    },
    {
      "cell_type": "code",
      "source": [
        "img = Image.open('/content/picture.jpeg')\n",
        "print(img)"
      ],
      "metadata": {
        "colab": {
          "base_uri": "https://localhost:8080/"
        },
        "id": "u3JxmyYbot7d",
        "outputId": "c3c524da-7292-4375-80aa-d453496058f5"
      },
      "execution_count": 13,
      "outputs": [
        {
          "output_type": "stream",
          "name": "stdout",
          "text": [
            "<PIL.JpegImagePlugin.JpegImageFile image mode=RGB size=540x1170 at 0x7B71A9084050>\n"
          ]
        }
      ]
    },
    {
      "cell_type": "code",
      "source": [
        "result = pytesseract.image_to_string(img)\n",
        "print(result)\n",
        "tts = gtts.gTTS(result)\n",
        "tts.save(\"hello.mp3\")"
      ],
      "metadata": {
        "colab": {
          "base_uri": "https://localhost:8080/"
        },
        "id": "U8uMWLVxot4W",
        "outputId": "cd5ff179-b9fb-4ac5-a716-a1b6b35e1646"
      },
      "execution_count": 14,
      "outputs": [
        {
          "output_type": "stream",
          "name": "stdout",
          "text": [
            "ARTIFICIAL\n",
            "INTELLIGENCE (AI)\n",
            "\n",
            "Artificial intelligence (AI) is rapidly transforming\n",
            "various aspects of life, with new technologies\n",
            "emerging that enable machines to perform tasks\n",
            "that typically require human intelligence. AI\n",
            "encompasses a range of technologies, including\n",
            "machine learning, natural language processing, and\n",
            "robotics, all of which are constantly evolving. These\n",
            "advancements are leading to increased automation\n",
            "of repetitive tasks, improved data analysis, and the\n",
            "development of more sophisticated tools for\n",
            "decision-making. From healthcare to finance,\n",
            "transportation to entertainment, Al is driving\n",
            "innovation and impacting nearly every sector.\n",
            "While AI offers numerous benefits, including\n",
            "increased productivity and problem-solving\n",
            "capabilities, it also raises ethical concerns about\n",
            "bias, job displacement, and the potential for\n",
            "misuse, highlighting the need for responsible\n",
            "development and implementation.\n",
            "\f\n"
          ]
        }
      ]
    }
  ]
}